{
 "cells": [
  {
   "cell_type": "markdown",
   "id": "8614addc",
   "metadata": {},
   "source": [
    "### Write a NumPy program to test whether none of the elements of a given array is zero."
   ]
  },
  {
   "cell_type": "code",
   "execution_count": 13,
   "id": "25dc7732",
   "metadata": {},
   "outputs": [],
   "source": [
    "import numpy as np\n",
    "def chechzeroelement():\n",
    "    Rows = int(input(\"Give the number of rows:\"))  \n",
    "    Columns = int(input(\"Give the number of columns:\"))  \n",
    "    matrix = np.array([[int(input()) for c in range (Columns)] for r in range(Rows)])\n",
    "    print(matrix)\n",
    "    print(\"None of the elements of a given array is zero ?\" ,np.all(matrix))"
   ]
  },
  {
   "cell_type": "code",
   "execution_count": 14,
   "id": "33b31919",
   "metadata": {},
   "outputs": [
    {
     "name": "stdout",
     "output_type": "stream",
     "text": [
      "Give the number of rows:3\n",
      "Give the number of columns:3\n",
      "1\n",
      "2\n",
      "3\n",
      "4\n",
      "5\n",
      "6\n",
      "7\n",
      "8\n",
      "9\n"
     ]
    },
    {
     "data": {
      "text/plain": [
       "array([[1, 2, 3],\n",
       "       [4, 5, 6],\n",
       "       [7, 8, 9]])"
      ]
     },
     "execution_count": 14,
     "metadata": {},
     "output_type": "execute_result"
    }
   ],
   "source": [
    "chechzeroelement()"
   ]
  },
  {
   "cell_type": "markdown",
   "id": "c55b3995",
   "metadata": {},
   "source": [
    "### Write a NumPy program to test whether any of the elements of a given array is non-zero."
   ]
  },
  {
   "cell_type": "code",
   "execution_count": 20,
   "id": "89e5f505",
   "metadata": {},
   "outputs": [],
   "source": [
    "def chech_non_zero_element():\n",
    "    Rows = int(input(\"Give the number of rows:\"))  \n",
    "    Columns = int(input(\"Give the number of columns:\"))  \n",
    "    matrix = np.array([[int(input()) for c in range (Columns)] for r in range(Rows)])\n",
    "    print(matrix)\n",
    "    print(\"ny of the elements of a given array is non-zero ?\" ,np.any(matrix))"
   ]
  },
  {
   "cell_type": "code",
   "execution_count": 21,
   "id": "848415f4",
   "metadata": {},
   "outputs": [
    {
     "name": "stdout",
     "output_type": "stream",
     "text": [
      "Give the number of rows:3\n",
      "Give the number of columns:3\n",
      "0\n",
      "0\n",
      "0\n",
      "0\n",
      "0\n",
      "0\n",
      "0\n",
      "0\n",
      "0\n",
      "[[0 0 0]\n",
      " [0 0 0]\n",
      " [0 0 0]]\n",
      "ny of the elements of a given array is non-zero ? False\n"
     ]
    }
   ],
   "source": [
    "chech_non_zero_element()"
   ]
  },
  {
   "cell_type": "markdown",
   "id": "500c1e2e",
   "metadata": {},
   "source": [
    "### Write a NumPy program to create an element-wise comparison (equal, equal within a tolerance) of two given"
   ]
  },
  {
   "cell_type": "code",
   "execution_count": 23,
   "id": "df833535",
   "metadata": {},
   "outputs": [],
   "source": [
    "def wise_comparison():\n",
    "    Rows = int(input(\"Give the number of rows:\"))  \n",
    "    Columns = int(input(\"Give the number of columns:\"))\n",
    "    print(\"Enter the First matrix\")\n",
    "    matrix1 = np.array([[int(input()) for c in range (Columns)] for r in range(Rows)])\n",
    "    print(\"Enter the Second matrix\")\n",
    "    matrix2 = np.array([[int(input()) for c in range (Columns)] for r in range(Rows)])\n",
    "    print(\"Comparison - equal:\")\n",
    "    print(np.equal(matrix1, matrix2))\n",
    "    print(\"Comparison - equal within a tolerance:\")\n",
    "    print(np.allclose(matrix1, matrix2))"
   ]
  },
  {
   "cell_type": "code",
   "execution_count": 24,
   "id": "262fb4d0",
   "metadata": {},
   "outputs": [
    {
     "name": "stdout",
     "output_type": "stream",
     "text": [
      "Give the number of rows:3\n",
      "Give the number of columns:3\n",
      "Enter the First matrix\n",
      "1\n",
      "2\n",
      "3\n",
      "4\n",
      "5\n",
      "6\n",
      "7\n",
      "8\n",
      "9\n",
      "Enter the Second matrix\n",
      "1\n",
      "2\n",
      "3\n",
      "4\n",
      "5\n",
      "6\n",
      "7\n",
      "8\n",
      "1\n",
      "Comparison - equal:\n",
      "[[ True  True  True]\n",
      " [ True  True  True]\n",
      " [ True  True False]]\n",
      "Comparison - equal within a tolerance:\n",
      "False\n"
     ]
    }
   ],
   "source": [
    "wise_comparison()"
   ]
  },
  {
   "cell_type": "markdown",
   "id": "66ed7d80",
   "metadata": {},
   "source": [
    "### Write a NumPy program to create an array of 10 zeros,10 ones, 10 fives."
   ]
  },
  {
   "cell_type": "code",
   "execution_count": 31,
   "id": "92a69fa7",
   "metadata": {},
   "outputs": [
    {
     "name": "stdout",
     "output_type": "stream",
     "text": [
      "array of 10 zeros [0. 0. 0. 0. 0. 0. 0. 0. 0. 0.]\n",
      "array of 10 ones [1. 1. 1. 1. 1. 1. 1. 1. 1. 1.]\n",
      "array of 10 fives [5. 5. 5. 5. 5. 5. 5. 5. 5. 5.]\n"
     ]
    }
   ],
   "source": [
    "array_of10_zeros = np.zeros(10)\n",
    "array_of10_ones = np.ones(10)\n",
    "array_of10_fives = np.zeros(10)+5\n",
    "print(f\"array of 10 zeros {array_of10_zeros}\\narray of 10 ones {array_of10_ones}\\narray of 10 fives {array_of10_fives}\")"
   ]
  },
  {
   "cell_type": "markdown",
   "id": "434d22b0",
   "metadata": {},
   "source": [
    "### Write a NumPy program to create an array of the integers from 30 to70."
   ]
  },
  {
   "cell_type": "code",
   "execution_count": 33,
   "id": "557dddf1",
   "metadata": {},
   "outputs": [
    {
     "data": {
      "text/plain": [
       "array([30, 31, 32, 33, 34, 35, 36, 37, 38, 39, 40, 41, 42, 43, 44, 45, 46,\n",
       "       47, 48, 49, 50, 51, 52, 53, 54, 55, 56, 57, 58, 59, 60, 61, 62, 63,\n",
       "       64, 65, 66, 67, 68, 69])"
      ]
     },
     "execution_count": 33,
     "metadata": {},
     "output_type": "execute_result"
    }
   ],
   "source": [
    "array1 = np.array(range(30,70))\n",
    "array1"
   ]
  },
  {
   "cell_type": "markdown",
   "id": "75c4db7b",
   "metadata": {},
   "source": [
    "### Write a NumPy program to create a 3x3 identity matrix"
   ]
  },
  {
   "cell_type": "code",
   "execution_count": 34,
   "id": "90e6b1f0",
   "metadata": {},
   "outputs": [
    {
     "data": {
      "text/plain": [
       "array([[1., 0., 0.],\n",
       "       [0., 1., 0.],\n",
       "       [0., 0., 1.]])"
      ]
     },
     "execution_count": 34,
     "metadata": {},
     "output_type": "execute_result"
    }
   ],
   "source": [
    "np.identity(3)"
   ]
  },
  {
   "cell_type": "markdown",
   "id": "e8d1c74f",
   "metadata": {},
   "source": [
    "### Write a NumPy program to generate a random number between 0 and 1"
   ]
  },
  {
   "cell_type": "code",
   "execution_count": 65,
   "id": "376b94ff",
   "metadata": {},
   "outputs": [
    {
     "data": {
      "text/plain": [
       "array([-0.85083623])"
      ]
     },
     "execution_count": 65,
     "metadata": {},
     "output_type": "execute_result"
    }
   ],
   "source": [
    "np.random.normal(0,1,1)"
   ]
  },
  {
   "cell_type": "markdown",
   "id": "d14c2fe8",
   "metadata": {},
   "source": [
    "### Write a NumPy program to generate an array of 15 random numbers from a standard normal distribution"
   ]
  },
  {
   "cell_type": "code",
   "execution_count": 66,
   "id": "7d36a194",
   "metadata": {},
   "outputs": [
    {
     "data": {
      "text/plain": [
       "array([-0.5785155 ,  1.27490584,  1.55790806, -2.16240971, -0.02907958,\n",
       "       -1.5351298 ,  1.4029928 , -1.41887912, -1.61084318, -0.75777306,\n",
       "       -0.84844043,  0.59588671,  0.75386802, -3.22365099,  0.433614  ])"
      ]
     },
     "execution_count": 66,
     "metadata": {},
     "output_type": "execute_result"
    }
   ],
   "source": [
    "np.random.normal(0,1,15)"
   ]
  },
  {
   "cell_type": "markdown",
   "id": "c9f1e9c6",
   "metadata": {},
   "source": [
    "### Write a NumPy program to create a vector with values ranging from 15 to 55 and print all values except the first and last."
   ]
  },
  {
   "cell_type": "code",
   "execution_count": 80,
   "id": "8d5c9e98",
   "metadata": {},
   "outputs": [
    {
     "name": "stdout",
     "output_type": "stream",
     "text": [
      "[array([16, 17, 18, 19, 20, 21, 22, 23, 24, 25, 26, 27, 28, 29, 30, 31, 32,\n",
      "       33, 34, 35, 36, 37, 38, 39, 40, 41, 42, 43, 44, 45, 46, 47, 48, 49,\n",
      "       50, 51, 52, 53])]\n"
     ]
    }
   ],
   "source": [
    "print([np.arange(15,55)[1:-1]])"
   ]
  },
  {
   "cell_type": "markdown",
   "id": "d8c159c1",
   "metadata": {},
   "source": [
    "### Write a NumPy program to create a vector of length 5 filled with arbitrary integers from 0 to 10"
   ]
  },
  {
   "cell_type": "code",
   "execution_count": 94,
   "id": "7621bb25",
   "metadata": {},
   "outputs": [
    {
     "data": {
      "text/plain": [
       "array([ 1,  1, 10,  0,  7])"
      ]
     },
     "execution_count": 94,
     "metadata": {},
     "output_type": "execute_result"
    }
   ],
   "source": [
    "np.random.randint(0,11,5)"
   ]
  },
  {
   "cell_type": "markdown",
   "id": "b879a17a",
   "metadata": {},
   "source": [
    "### Write a NumPy program to create a 10x10 matrix, in which the elements on the borders will be equal to 1, and inside 0."
   ]
  },
  {
   "cell_type": "code",
   "execution_count": 118,
   "id": "04c01c6a",
   "metadata": {},
   "outputs": [
    {
     "data": {
      "text/plain": [
       "array([[1., 1., 1., 1., 1., 1., 1., 1., 1., 1.],\n",
       "       [1., 0., 0., 0., 0., 0., 0., 0., 0., 1.],\n",
       "       [1., 0., 0., 0., 0., 0., 0., 0., 0., 1.],\n",
       "       [1., 0., 0., 0., 0., 0., 0., 0., 0., 1.],\n",
       "       [1., 0., 0., 0., 0., 0., 0., 0., 0., 1.],\n",
       "       [1., 0., 0., 0., 0., 0., 0., 0., 0., 1.],\n",
       "       [1., 0., 0., 0., 0., 0., 0., 0., 0., 1.],\n",
       "       [1., 0., 0., 0., 0., 0., 0., 0., 0., 1.],\n",
       "       [1., 0., 0., 0., 0., 0., 0., 0., 0., 1.],\n",
       "       [1., 1., 1., 1., 1., 1., 1., 1., 1., 1.]])"
      ]
     },
     "execution_count": 118,
     "metadata": {},
     "output_type": "execute_result"
    }
   ],
   "source": [
    "arra1= np.zeros((10,10))\n",
    "arra1[0: ,0] =1\n",
    "arra1[0 ,1:] =1\n",
    "arra1[1:,-1] =1\n",
    "arra1[-1 ,1:] =1\n",
    "arra1"
   ]
  },
  {
   "cell_type": "markdown",
   "id": "8dd0ac1c",
   "metadata": {},
   "source": [
    "### Write a NumPy program to create a 5x5 zero matrix with elements on the main diagonal equal to 1, 2, 3, 4, 5."
   ]
  },
  {
   "cell_type": "code",
   "execution_count": 130,
   "id": "a52a188f",
   "metadata": {},
   "outputs": [
    {
     "data": {
      "text/plain": [
       "array([[1., 0., 0., 0., 0.],\n",
       "       [0., 2., 0., 0., 0.],\n",
       "       [0., 0., 3., 0., 0.],\n",
       "       [0., 0., 0., 4., 0.],\n",
       "       [0., 0., 0., 0., 5.]])"
      ]
     },
     "execution_count": 130,
     "metadata": {},
     "output_type": "execute_result"
    }
   ],
   "source": [
    "arra1= np.zeros((5,5))\n",
    "arra1[0,0],arra1[1,1],arra1[2,2],arra1[3,3],arra1[4,4]=[1,2,3,4,5]\n",
    "arra1"
   ]
  },
  {
   "cell_type": "markdown",
   "id": "fa19e8a0",
   "metadata": {},
   "source": [
    "### Write a NumPy program to create a 4x4 matrix in which 0 and 1 are staggered, with zeros on the main diagonal"
   ]
  },
  {
   "cell_type": "code",
   "execution_count": 136,
   "id": "4ffddb8c",
   "metadata": {},
   "outputs": [
    {
     "data": {
      "text/plain": [
       "array([[0., 1., 0., 1.],\n",
       "       [1., 0., 1., 0.],\n",
       "       [0., 1., 0., 1.],\n",
       "       [1., 0., 1., 0.]])"
      ]
     },
     "execution_count": 136,
     "metadata": {},
     "output_type": "execute_result"
    }
   ],
   "source": [
    "arra1 = np.ones((4,4))\n",
    "for i in range(0,len(arra1)):\n",
    "    arra1[i][i]=0\n",
    "arra1[2][0]=0\n",
    "arra1[3][1]=0\n",
    "arra1[0][2]=0\n",
    "arra1[1][3]=0\n",
    "arra1"
   ]
  },
  {
   "cell_type": "markdown",
   "id": "c6f1a67d",
   "metadata": {},
   "source": [
    "### Write a NumPy program to save two given arrays into a single file in compressed format (.npz format) and load it."
   ]
  },
  {
   "cell_type": "code",
   "execution_count": 137,
   "id": "728c2a28",
   "metadata": {},
   "outputs": [
    {
     "name": "stdout",
     "output_type": "stream",
     "text": [
      "Load arrays from the 'temp_arra.npz' file:\n",
      "[0 1 2 3 4 5 6 7 8 9]\n",
      "[ 0  1  2  3  4  5  6  7  8  9 10]\n"
     ]
    }
   ],
   "source": [
    "import numpy as np\n",
    "import os\n",
    "x = np.arange(10)\n",
    "y = np.arange(11)\n",
    "np.savez('temp_arra.npz', x=x, y=y)\n",
    "print(\"Load arrays from the 'temp_arra.npz' file:\")\n",
    "with np.load('temp_arra.npz') as data:\n",
    "    x2 = data['x']\n",
    "    y2 = data['y']\n",
    "    print(x2)\n",
    "    print(y2)"
   ]
  },
  {
   "cell_type": "markdown",
   "id": "2f98ffdd",
   "metadata": {},
   "source": [
    "### Write a NumPy program to extract all numbers from a given array which are less and greater than a specified number"
   ]
  },
  {
   "cell_type": "code",
   "execution_count": 152,
   "id": "18b5bd86",
   "metadata": {},
   "outputs": [
    {
     "name": "stdout",
     "output_type": "stream",
     "text": [
      "Give the number of rows:3\n",
      "Give the number of columns:3\n",
      "1\n",
      "2\n",
      "3\n",
      "4\n",
      "5\n",
      "6\n",
      "7\n",
      "8\n",
      "9\n",
      "please enter the value5\n",
      "[1 2 3 4]\n",
      "[6 7 8 9]\n"
     ]
    }
   ],
   "source": [
    "def extractless(matrix,num):\n",
    "    matrix =matrix[matrix<num]\n",
    "    return matrix\n",
    "\n",
    "def extractgreater(matrix,num):\n",
    "    matrix =matrix[matrix>num]\n",
    "    return matrix    \n",
    "\n",
    "Rows = int(input(\"Give the number of rows:\"))  \n",
    "Columns = int(input(\"Give the number of columns:\"))  \n",
    "matrix = np.array([[int(input()) for c in range (Columns)] for r in range(Rows)])\n",
    "num = int(input(\"please enter the value\"))\n",
    "lower = extractless(matrix,num)\n",
    "print(lower)\n",
    "higher = extractgreater(matrix,num)\n",
    "print(higher)"
   ]
  },
  {
   "cell_type": "markdown",
   "id": "6bad5e70",
   "metadata": {},
   "source": []
  }
 ],
 "metadata": {
  "kernelspec": {
   "display_name": "Python 3 (ipykernel)",
   "language": "python",
   "name": "python3"
  },
  "language_info": {
   "codemirror_mode": {
    "name": "ipython",
    "version": 3
   },
   "file_extension": ".py",
   "mimetype": "text/x-python",
   "name": "python",
   "nbconvert_exporter": "python",
   "pygments_lexer": "ipython3",
   "version": "3.10.9"
  }
 },
 "nbformat": 4,
 "nbformat_minor": 5
}
